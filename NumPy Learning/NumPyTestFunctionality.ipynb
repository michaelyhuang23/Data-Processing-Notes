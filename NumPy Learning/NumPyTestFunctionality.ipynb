{
 "cells": [
  {
   "cell_type": "code",
   "execution_count": 1,
   "metadata": {},
   "outputs": [
    {
     "output_type": "error",
     "ename": "ModuleNotFoundError",
     "evalue": "No module named 'yaml'",
     "traceback": [
      "\u001b[0;31m---------------------------------------------------------------------------\u001b[0m",
      "\u001b[0;31mModuleNotFoundError\u001b[0m                       Traceback (most recent call last)",
      "\u001b[0;32m<ipython-input-1-b95f5fa37054>\u001b[0m in \u001b[0;36m<module>\u001b[0;34m\u001b[0m\n\u001b[1;32m      1\u001b[0m \u001b[0;32mimport\u001b[0m \u001b[0mnumpy\u001b[0m \u001b[0;32mas\u001b[0m \u001b[0mnp\u001b[0m\u001b[0;34m\u001b[0m\u001b[0;34m\u001b[0m\u001b[0m\n\u001b[0;32m----> 2\u001b[0;31m \u001b[0;32mimport\u001b[0m \u001b[0myaml\u001b[0m\u001b[0;34m\u001b[0m\u001b[0;34m\u001b[0m\u001b[0m\n\u001b[0m",
      "\u001b[0;31mModuleNotFoundError\u001b[0m: No module named 'yaml'"
     ]
    }
   ],
   "source": [
    "import numpy as np"
   ]
  },
  {
   "cell_type": "code",
   "execution_count": 3,
   "metadata": {},
   "outputs": [
    {
     "output_type": "stream",
     "name": "stdout",
     "text": [
      "[[0. 0.]\n [0. 0.]\n [0. 0.]]\n(3, 2)\n"
     ]
    }
   ],
   "source": [
    "a = np.zeros((3,2))\n",
    "print(a)\n",
    "print(a.shape)"
   ]
  },
  {
   "cell_type": "code",
   "execution_count": 4,
   "metadata": {},
   "outputs": [
    {
     "output_type": "stream",
     "name": "stdout",
     "text": [
      "[[[0.00333333 0.00333333 0.00333333]\n  [0.00333333 0.00333333 0.00333333]]\n\n [[0.00333333 0.00333333 0.00333333]\n  [0.00333333 0.00333333 0.00333333]]\n\n [[0.00333333 0.00333333 0.00333333]\n  [0.00333333 0.00333333 0.00333333]]]\n"
     ]
    }
   ],
   "source": [
    "b = np.ones((3,2,3))\n",
    "c = np.linspace(2,100,300)\n",
    "c.ndim\n",
    "print(b/300)"
   ]
  },
  {
   "cell_type": "code",
   "execution_count": 5,
   "metadata": {},
   "outputs": [
    {
     "output_type": "execute_result",
     "data": {
      "text/plain": [
       "array([0, 8, 9, 6, 1])"
      ]
     },
     "metadata": {},
     "execution_count": 5
    }
   ],
   "source": [
    "d = np.random.randint(10, size = 5)\n",
    "d"
   ]
  },
  {
   "cell_type": "code",
   "execution_count": 56,
   "metadata": {},
   "outputs": [
    {
     "output_type": "stream",
     "name": "stdout",
     "text": [
      "24\n"
     ]
    },
    {
     "output_type": "execute_result",
     "data": {
      "text/plain": [
       "dtype('int64')"
      ]
     },
     "metadata": {},
     "execution_count": 56
    }
   ],
   "source": [
    "f = np.array([1,2,3])\n",
    "print(f.nbytes)\n",
    "f.dtype\n"
   ]
  },
  {
   "cell_type": "code",
   "execution_count": 71,
   "metadata": {},
   "outputs": [
    {
     "output_type": "stream",
     "name": "stdout",
     "text": [
      "[[1 2 3]\n [5 6 7]\n [5 6 7]]\n[[1 5 5]\n [2 6 6]\n [3 7 7]]\n"
     ]
    }
   ],
   "source": [
    "u = np.array([5,6,7])\n",
    "i = np.array([f,u,u])\n",
    "j = np.transpose(i)\n",
    "print(i)\n",
    "print(j)\n"
   ]
  },
  {
   "cell_type": "code",
   "execution_count": 96,
   "metadata": {},
   "outputs": [
    {
     "output_type": "stream",
     "name": "stdout",
     "text": [
      "[[1 2 3]\n [5 6 7]\n [5 6 7]\n [1 5 5]\n [2 6 6]\n [3 7 7]]\n[[1 2 3 1 5 5]\n [5 6 7 2 6 6]\n [5 6 7 3 7 7]]\n\n\n[[[1 2 3]\n  [5 6 7]\n  [5 6 7]]\n\n [[1 5 5]\n  [2 6 6]\n  [3 7 7]]]\n[[1 2 3 1 5 5]\n [5 6 7 2 6 6]\n [5 6 7 3 7 7]]\n"
     ]
    }
   ],
   "source": [
    "print(np.vstack([i,j]))\n",
    "print(np.hstack([i,j]))\n",
    "print('\\n')\n",
    "print(np.stack([i,j],axis=0)) # stack function stacks matrices/tensors up in the new axis. Think of the multidimensional tensor representation and this will make sense\n",
    "print(np.concatenate([i,j],axis=1))\n",
    "# in general, there's no reason to use vstack and hstack and dstack instead of concatenate which just joins matrices or tensors together along an existing, specified dimension."
   ]
  },
  {
   "cell_type": "code",
   "execution_count": 14,
   "metadata": {},
   "outputs": [
    {
     "output_type": "stream",
     "name": "stdout",
     "text": [
      "0.3341691493988037\n"
     ]
    }
   ],
   "source": [
    "g = np.random.rand(4,5000,3000)*10\n",
    "import time\n",
    "start_t = time.time()\n",
    "for i in range(1000000):\n",
    "    g[0,1:2000,2:1000]\n",
    "print(time.time()-start_t)\n",
    "del g"
   ]
  },
  {
   "cell_type": "code",
   "execution_count": 26,
   "metadata": {},
   "outputs": [
    {
     "output_type": "execute_result",
     "data": {
      "text/plain": [
       "array([1, 1, 1, 1, 1, 2, 2, 2, 2, 2, 3, 3, 3, 3, 3])"
      ]
     },
     "metadata": {},
     "execution_count": 26
    }
   ],
   "source": [
    "k = np.repeat(np.array([f]),5)\n",
    "k"
   ]
  },
  {
   "cell_type": "code",
   "execution_count": 33,
   "metadata": {},
   "outputs": [
    {
     "output_type": "execute_result",
     "data": {
      "text/plain": [
       "array([[1., 1., 1., 1., 1.],\n",
       "       [1., 0., 0., 0., 1.],\n",
       "       [1., 0., 9., 0., 1.],\n",
       "       [1., 0., 0., 0., 1.],\n",
       "       [1., 1., 1., 1., 1.]])"
      ]
     },
     "metadata": {},
     "execution_count": 33
    }
   ],
   "source": [
    "h = np.ones((5,5))\n",
    "h[1:-1,1:-1] = np.zeros((3,3))\n",
    "h[2,2] = 9\n",
    "h"
   ]
  },
  {
   "cell_type": "code",
   "execution_count": 41,
   "metadata": {},
   "outputs": [
    {
     "output_type": "execute_result",
     "data": {
      "text/plain": [
       "array([[8., 8., 8.],\n",
       "       [8., 8., 8.],\n",
       "       [8., 8., 8.]])"
      ]
     },
     "metadata": {},
     "execution_count": 41
    }
   ],
   "source": [
    "l = np.ones((3,4))\n",
    "p = np.full((4,3),2)\n",
    "w = np.matmul(l,p)\n",
    "w"
   ]
  },
  {
   "cell_type": "code",
   "execution_count": 42,
   "metadata": {},
   "outputs": [
    {
     "output_type": "execute_result",
     "data": {
      "text/plain": [
       "0.0"
      ]
     },
     "metadata": {},
     "execution_count": 42
    }
   ],
   "source": [
    "np.linalg.det(w)"
   ]
  },
  {
   "cell_type": "code",
   "execution_count": 45,
   "metadata": {},
   "outputs": [
    {
     "output_type": "execute_result",
     "data": {
      "text/plain": [
       "array([[ 1.66666667e-01,  2.00000000e-01, -2.41666667e-01],\n",
       "       [ 1.11022302e-17, -2.00000000e-01,  2.00000000e-01],\n",
       "       [-1.66666667e-01,  0.00000000e+00,  1.66666667e-01]])"
      ]
     },
     "metadata": {},
     "execution_count": 45
    }
   ],
   "source": [
    "w[0,2]=2\n",
    "w[1,1]=3\n",
    "np.linalg.inv(w)\n",
    "np.linalg."
   ]
  },
  {
   "cell_type": "code",
   "execution_count": 47,
   "metadata": {},
   "outputs": [
    {
     "output_type": "execute_result",
     "data": {
      "text/plain": [
       "array([[5, 9, 3],\n",
       "       [2, 4, 3]])"
      ]
     },
     "metadata": {},
     "execution_count": 47
    }
   ],
   "source": [
    "t = np.random.randint(0,10,(2,3))\n",
    "t"
   ]
  },
  {
   "cell_type": "code",
   "execution_count": 51,
   "metadata": {},
   "outputs": [
    {
     "output_type": "execute_result",
     "data": {
      "text/plain": [
       "array([2, 4, 3])"
      ]
     },
     "metadata": {},
     "execution_count": 51
    }
   ],
   "source": [
    "np.min(t,axis=0)"
   ]
  },
  {
   "cell_type": "code",
   "execution_count": 50,
   "metadata": {},
   "outputs": [
    {
     "output_type": "execute_result",
     "data": {
      "text/plain": [
       "9"
      ]
     },
     "metadata": {},
     "execution_count": 50
    }
   ],
   "source": [
    "np.max(t)"
   ]
  },
  {
   "cell_type": "code",
   "execution_count": 55,
   "metadata": {},
   "outputs": [
    {
     "output_type": "execute_result",
     "data": {
      "text/plain": [
       "array([17,  9])"
      ]
     },
     "metadata": {},
     "execution_count": 55
    }
   ],
   "source": [
    "np.sum(t,axis=1)"
   ]
  },
  {
   "cell_type": "code",
   "execution_count": 108,
   "metadata": {},
   "outputs": [
    {
     "output_type": "execute_result",
     "data": {
      "text/plain": [
       "array([[  1.,  13.,  21.,  11., 196.,  75.,   4.,   3.,  34.,   6.,   7.,\n",
       "          8.,   0.,   1.,   2.,   3.,   4.,   5.],\n",
       "       [  3.,  42.,  12.,  33., 766.,  75.,   4.,  55.,   6.,   4.,   3.,\n",
       "          4.,   5.,   6.,   7.,   0.,  11.,  12.],\n",
       "       [  1.,  22.,  33.,  11., 999.,  11.,   2.,   1.,  78.,   0.,   1.,\n",
       "          2.,   9.,   8.,   7.,   1.,  76.,  88.]], dtype=float32)"
      ]
     },
     "metadata": {},
     "execution_count": 108
    }
   ],
   "source": [
    "file_data = np.genfromtxt('data.txt',delimiter=',',dtype='int32')\n",
    "float_data = file_data.astype('float32')\n",
    "float_data"
   ]
  },
  {
   "cell_type": "code",
   "execution_count": 143,
   "metadata": {},
   "outputs": [
    {
     "output_type": "execute_result",
     "data": {
      "text/plain": [
       "(3, 18)"
      ]
     },
     "metadata": {},
     "execution_count": 143
    }
   ],
   "source": [
    "file_data>50\n",
    "file_data.shape"
   ]
  },
  {
   "cell_type": "code",
   "execution_count": 145,
   "metadata": {},
   "outputs": [
    {
     "output_type": "stream",
     "name": "stdout",
     "text": [
      "[[ 13 196  34]\n [ 42 766   6]\n [ 22 999  78]]\n[[ 13 196  34]\n [ 42 766   6]\n [ 22 999  78]]\n[ 12  11 196]\n"
     ]
    }
   ],
   "source": [
    "# indexing by array/list\n",
    "print(file_data[:,[1,4,8]])\n",
    "print(file_data[:,np.array([1,4,8])])\n",
    "print(file_data[[1,2,0],[2,3,4]])"
   ]
  },
  {
   "cell_type": "code",
   "execution_count": 123,
   "metadata": {},
   "outputs": [
    {
     "output_type": "execute_result",
     "data": {
      "text/plain": [
       "array([196,  75, 766,  75,  55, 999,  78,  76,  88], dtype=int32)"
      ]
     },
     "metadata": {},
     "execution_count": 123
    }
   ],
   "source": [
    "# indexing by boolean (which of course requires number of booleans match the number of dimensions along that axis)\n",
    "file_data[:,[False, False, False, False,  True,  True, False, False, False,\n",
    "        False, False, False, False, False, False, False, True, False]]\n",
    "file_data[file_data>50] # since we inputs a 2D array, this smartly flattens both "
   ]
  },
  {
   "cell_type": "code",
   "execution_count": 148,
   "metadata": {},
   "outputs": [
    {
     "output_type": "execute_result",
     "data": {
      "text/plain": [
       "array([ True,  True,  True])"
      ]
     },
     "metadata": {},
     "execution_count": 148
    }
   ],
   "source": [
    "np.all(file_data>50,axis=0) # return true for an axis only if all elements along the axis are true\n",
    "np.any(file_data>30,axis=1) # return true for an axis only if any elements along the axis are true"
   ]
  },
  {
   "cell_type": "code",
   "execution_count": 154,
   "metadata": {},
   "outputs": [
    {
     "output_type": "stream",
     "name": "stdout",
     "text": [
      "[[ True  True  True  True  True False  True  True  True  True  True  True\n   True  True  True  True  True  True]\n [ True  True  True  True  True False  True False  True  True  True  True\n   True  True  True  True  True  True]\n [ True  True  True  True  True  True  True  True False  True  True  True\n   True  True  True  True False False]]\n"
     ]
    }
   ],
   "source": [
    "print(~((file_data>50) & (file_data<100))) # all bit-wise operations are now element-wise"
   ]
  },
  {
   "cell_type": "code",
   "execution_count": 159,
   "metadata": {},
   "outputs": [
    {
     "output_type": "execute_result",
     "data": {
      "text/plain": [
       "array([4, 4, 4])"
      ]
     },
     "metadata": {},
     "execution_count": 159
    }
   ],
   "source": [
    "np.argmax(file_data,axis=1)"
   ]
  },
  {
   "cell_type": "code",
   "execution_count": 158,
   "metadata": {},
   "outputs": [
    {
     "output_type": "execute_result",
     "data": {
      "text/plain": [
       "array([[  0,   0,   0,   0, 100, 100,   0,   0,   0,   0,   0,   0,   0,\n",
       "          0,   0,   0,   0,   0],\n",
       "       [  0,   0,   0,   0, 100, 100,   0, 100,   0,   0,   0,   0,   0,\n",
       "          0,   0,   0,   0,   0],\n",
       "       [  0,   0,   0,   0, 100,   0,   0,   0, 100,   0,   0,   0,   0,\n",
       "          0,   0,   0, 100, 100]])"
      ]
     },
     "metadata": {},
     "execution_count": 158
    }
   ],
   "source": [
    "new_data = np.where(file_data>50,100,0) # fill in 100 for True, 0 for False\n",
    "new_data"
   ]
  },
  {
   "cell_type": "code",
   "execution_count": null,
   "metadata": {},
   "outputs": [],
   "source": []
  }
 ],
 "metadata": {
  "kernelspec": {
   "display_name": "Python 3",
   "language": "python",
   "name": "python3"
  },
  "language_info": {
   "codemirror_mode": {
    "name": "ipython",
    "version": 3
   },
   "file_extension": ".py",
   "mimetype": "text/x-python",
   "name": "python",
   "nbconvert_exporter": "python",
   "pygments_lexer": "ipython3",
   "version": "3.7.7-final"
  }
 },
 "nbformat": 4,
 "nbformat_minor": 4
}